{
 "cells": [
  {
   "cell_type": "markdown",
   "id": "2d3d898e-1d1e-4e17-8880-adfd659231d6",
   "metadata": {},
   "source": [
    "**Author:** C Mitchell\n",
    "\n",
    "This notebook is to visualize the uncertainty in the PIC protocol via the N culture results."
   ]
  },
  {
   "cell_type": "code",
   "execution_count": 1,
   "id": "79249a3a-77a6-4f31-81c7-cd8aa4a9948c",
   "metadata": {},
   "outputs": [],
   "source": [
    "import pandas as pd\n",
    "import re\n",
    "import numpy as np\n",
    "import seaborn as sns\n",
    "import matplotlib.pyplot as plt"
   ]
  },
  {
   "cell_type": "markdown",
   "id": "3fe2fe73-8348-429c-bac4-be3e801b3da6",
   "metadata": {},
   "source": [
    "# Importing datasets\n",
    "\n",
    "## Blank corrected"
   ]
  },
  {
   "cell_type": "code",
   "execution_count": 7,
   "id": "63022a63-3dc4-427b-ba62-b8d60c3dc111",
   "metadata": {},
   "outputs": [],
   "source": [
    "df = pd.read_csv('data/03-PIC-blank-corrected.csv')\n",
    "df = df.assign(label= df.Code.str[:-1])"
   ]
  },
  {
   "cell_type": "markdown",
   "id": "a7496ace-3558-4858-9e66-30161197ef38",
   "metadata": {},
   "source": [
    "## Blank values and non-blank corrected data\n",
    "\n",
    "Note: for the blanks we want to use all the individual blank measurements, not the mean for each treatment, so we need to go back to an earlier version of the dataset for the blanks as well as the uncorrected data"
   ]
  },
  {
   "cell_type": "code",
   "execution_count": 8,
   "id": "443f07d6-c533-40c9-bea9-a2c1c90bd2bf",
   "metadata": {},
   "outputs": [],
   "source": [
    "blankdf = pd.read_csv('data/02-ICPMS-and-PIC.csv')"
   ]
  },
  {
   "cell_type": "code",
   "execution_count": 9,
   "id": "47557ab8-8b23-4be1-94f5-fca96b2cfac3",
   "metadata": {},
   "outputs": [],
   "source": [
    "blank_df = blankdf[blankdf.Code.str.startswith('M')]"
   ]
  },
  {
   "cell_type": "code",
   "execution_count": 10,
   "id": "ed212c1c-d429-42fb-82af-81b59c1dac49",
   "metadata": {},
   "outputs": [],
   "source": [
    "nonblank_df = blankdf[blankdf.Code.str.startswith('N')]"
   ]
  },
  {
   "cell_type": "markdown",
   "id": "1928d9db-6d0b-47b7-a1a6-cb6c40b70650",
   "metadata": {},
   "source": [
    "# Plotting\n",
    "\n",
    "First let's pull out all the relevant data columns"
   ]
  },
  {
   "cell_type": "code",
   "execution_count": 11,
   "id": "f066f3ba-b330-4c3e-b614-3c41da0adff0",
   "metadata": {},
   "outputs": [],
   "source": [
    "# blanks\n",
    "blank2 =  blank_df['PIC mmol/m3']\n",
    "blank = blank_df['PIC ug/l']\n",
    "\n",
    "# uncorrected\n",
    "upic2 =  nonblank_df['PIC mmol/m3']\n",
    "upic = nonblank_df['PIC ug/l']\n",
    "\n",
    "# corrected (with outliers removed)\n",
    "Ndf = df[df.Code.str.startswith('N')]\n",
    "bx_outliers = [8, 9, 56]\n",
    "pic = Ndf['PIC ug/l']\n",
    "pic_bx = pic[~pic.index.isin(bx_outliers)]\n",
    "pic2 = Ndf['PIC mmol/m3']\n",
    "pic2_bx = pic2[~pic2.index.isin(bx_outliers)]"
   ]
  },
  {
   "cell_type": "markdown",
   "id": "8ad5afcb-4e4d-4de0-938b-3f34802c1b1a",
   "metadata": {},
   "source": [
    "Finally, doing the plotting"
   ]
  },
  {
   "cell_type": "code",
   "execution_count": 12,
   "id": "73d8fb0f-b66e-47eb-93aa-eaaf4d4b4227",
   "metadata": {},
   "outputs": [
    {
     "data": {
      "image/png": "[encoded data removed]",
      "text/plain": [
       "<Figure size 600x400 with 2 Axes>"
      ]
     },
     "metadata": {},
     "output_type": "display_data"
    }
   ],
   "source": [
    "fig, ax = plt.subplots(figsize = (6,4))\n",
    "\n",
    "## Uncorrected pic\n",
    "ax.boxplot([upic, blank, pic], positions = [0.8,1.5,2.2], showfliers=False, widths = 0.3,patch_artist=True, \n",
    "           medianprops={\"color\": \"white\", \"linewidth\": 1})\n",
    "\n",
    "# add the data points so y-axes match\n",
    "ax.scatter(np.ones_like(upic), upic, alpha=0)\n",
    "ax.set_ylabel(r'PIC ($\\mu$g/L)');\n",
    "ax.set_ylim([-1.5,6])\n",
    "\n",
    "# make second axis\n",
    "ax2 = ax.twinx()\n",
    "\n",
    "### dots for 1st boxplot\n",
    "# make jitter for the data points\n",
    "x = np.ones_like(upic2)*0.8\n",
    "jitter_strength = 0.1\n",
    "x_jittered = x + np.random.uniform(-jitter_strength, jitter_strength, size=x.shape)\n",
    "\n",
    "# Overlay all data points\n",
    "ax2.scatter(x_jittered, upic2, s=15,color=[0.6,0.6,0.6])\n",
    "ax2.set_ylabel(r'PIC (mmol/m$^3$)');\n",
    "ax2.set_ylim([-1.5/12,6/12])\n",
    "\n",
    "### dots for second boxplot\n",
    "x = np.ones_like(blank2)*1.5\n",
    "jitter_strength = 0.1\n",
    "x_jittered = x + np.random.uniform(-jitter_strength, jitter_strength, size=x.shape)\n",
    "\n",
    "# Overlay all data points\n",
    "ax2.scatter(x_jittered, blank2, s=15,color=[0.6,0.6,0.6])\n",
    "ax2.set_ylabel(r'PIC (mmol/m$^3$)');\n",
    "ax2.set_ylim([-1.5/12,6/12])\n",
    "\n",
    "### dots for third boxplot\n",
    "# make jitter for the data points\n",
    "x = np.ones_like(pic2)*2.2\n",
    "jitter_strength = 0.1\n",
    "x_jittered = x + np.random.uniform(-jitter_strength, jitter_strength, size=x.shape)\n",
    "\n",
    "# Overlay all data points\n",
    "ax2.scatter(x_jittered, pic2, s=15,color=[0.6,0.6,0.6])\n",
    "ax2.set_ylabel(r'PIC (mmol/m$^3$)');\n",
    "ax2.set_ylim([-1.5/12,6/12])\n",
    "\n",
    "#ax2.spines['left'].set_visible(False)\n",
    "\n",
    "ax2.spines['top'].set_visible(False)\n",
    "ax2.spines['bottom'].set_visible(False)\n",
    "ax.spines['top'].set_visible(False)\n",
    "ax.spines['bottom'].set_visible(False)\n",
    "ax2.set_xticks([]);\n",
    "ax.set_xticks([0.8,1.5,2.2]);\n",
    "ax.set_xticklabels(['Uncorrected \\n for $\\\\mathit{C. leptoporus}$ N/non-c',\n",
    "                    'blank',\n",
    "                    'blank corrected \\n for $\\\\mathit{C. leptoporus}$ N/non-c']);\n",
    "\n",
    "plt.savefig('figures/Fig3-uncertainty-boxplots.png', dpi = 350, bbox_inches='tight')"
   ]
  },
  {
   "cell_type": "code",
   "execution_count": null,
   "id": "c9f78407-0b9f-4856-9ab1-4eee555914c0",
   "metadata": {},
   "outputs": [],
   "source": []
  }
 ],
 "metadata": {
  "kernelspec": {
   "display_name": "Python 3 (ipykernel)",
   "language": "python",
   "name": "python3"
  },
  "language_info": {
   "codemirror_mode": {
    "name": "ipython",
    "version": 3
   },
   "file_extension": ".py",
   "mimetype": "text/x-python",
   "name": "python",
   "nbconvert_exporter": "python",
   "pygments_lexer": "ipython3",
   "version": "3.12.4"
  }
 },
 "nbformat": 4,
 "nbformat_minor": 5
}
