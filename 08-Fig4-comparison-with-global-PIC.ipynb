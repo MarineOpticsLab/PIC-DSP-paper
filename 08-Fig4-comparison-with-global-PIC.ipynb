{
 "cells": [
  {
   "cell_type": "markdown",
   "id": "7eefa12d-8468-4556-98e4-6585a8c89b7f",
   "metadata": {},
   "source": [
    "**Author:** C Mitchell\n",
    "\n",
    "Here we want to look at the archive of discrete PIC measurements we have available to us and see how our uncertainty quantifications compare with these archived data"
   ]
  },
  {
   "cell_type": "markdown",
   "id": "19303ddb-1c86-4357-baec-3c0c0d3a19ce",
   "metadata": {},
   "source": [
    "# Initialization"
   ]
  },
  {
   "cell_type": "code",
   "execution_count": 1,
   "id": "6b6e6c3f-2bfe-4eb9-a119-53f29892a580",
   "metadata": {},
   "outputs": [],
   "source": [
    "import pandas as pd\n",
    "import numpy as np\n",
    "import matplotlib.pyplot as plt\n",
    "from scipy import stats\n",
    "import seaborn as sns"
   ]
  },
  {
   "cell_type": "code",
   "execution_count": 2,
   "id": "117f882d-5d21-4b1d-8b0c-b1b87a75e5f0",
   "metadata": {},
   "outputs": [],
   "source": [
    "fulldf = pd.read_csv('data/03-PIC-blank-corrected.csv')\n",
    "fulldf = fulldf.assign(label= fulldf.Code.str[:-1])\n",
    "fulldf = fulldf.assign(culture_id = fulldf.label.str[0])\n",
    "fulldf = fulldf.assign(treatment_id = fulldf.label.str[1:])"
   ]
  },
  {
   "cell_type": "markdown",
   "id": "ee76444f-4dbe-4dd8-9d37-5bfde16b0ae7",
   "metadata": {},
   "source": [
    "Pulling out only the data from the N culture"
   ]
  },
  {
   "cell_type": "code",
   "execution_count": 3,
   "id": "3e31967b-60f7-445a-9b3d-8bd81ec97d3e",
   "metadata": {},
   "outputs": [],
   "source": [
    "Ndf = fulldf.loc[fulldf['culture_id'] == 'N']"
   ]
  },
  {
   "cell_type": "markdown",
   "id": "e7218c82-c331-4aa8-989c-9f252eb4c697",
   "metadata": {},
   "source": [
    "And defining the outliers (from previous analysis)"
   ]
  },
  {
   "cell_type": "code",
   "execution_count": 4,
   "id": "a69270cd-e45c-4936-90ba-a77f519dde96",
   "metadata": {},
   "outputs": [],
   "source": [
    "bx_outliers = [8, 9, 56]"
   ]
  },
  {
   "cell_type": "markdown",
   "id": "2ab4fbc2-5222-45a6-bce1-0d886a55790c",
   "metadata": {},
   "source": [
    "# Quantifying the uncertainty using N culture\n",
    "\n",
    "These next few cells are copied from the `06-N-culture-analysis` notebook"
   ]
  },
  {
   "cell_type": "code",
   "execution_count": 5,
   "id": "35bc8cef-3bce-46e2-86a6-52bf30fed715",
   "metadata": {},
   "outputs": [],
   "source": [
    "pic = Ndf['PIC ug/l']\n",
    "pic_bx = pic[~pic.index.isin(bx_outliers)]\n",
    "pic2 = Ndf['PIC mmol/m3']\n",
    "pic2_bx = pic2[~pic2.index.isin(bx_outliers)]"
   ]
  },
  {
   "cell_type": "code",
   "execution_count": 6,
   "id": "c112e25b-e095-4d1a-91a9-b442bf939d16",
   "metadata": {},
   "outputs": [],
   "source": [
    "def stats_dict(pic):\n",
    "\n",
    "    madfn = lambda x: np.median(np.abs(x - np.median(x)))\n",
    "    maefn = lambda x: np.mean(np.abs(x - np.mean(x)))\n",
    "    biasfn = lambda x: np.median(x - np.median(x))\n",
    "    biasfn_mn = lambda x: np.mean(x - np.mean(x))\n",
    "   \n",
    "    pic_stats = {'mean' : np.mean(pic),\n",
    "                 'median' : np.median(pic),\n",
    "                 'std' : np.std(pic),\n",
    "                 'ste' : np.std(pic)/len(pic),\n",
    "                 'mad' : madfn(pic),\n",
    "                 'mae' : maefn(pic),\n",
    "                 'bias' : biasfn(pic),\n",
    "                 'bias_mean' : biasfn_mn(pic),\n",
    "                'n' : len(pic)}\n",
    "    \n",
    "    return pic_stats"
   ]
  },
  {
   "cell_type": "code",
   "execution_count": 7,
   "id": "32847f88-04ee-4e67-b4f9-67799ff225db",
   "metadata": {},
   "outputs": [
    {
     "data": {
      "text/html": [
       "<div>\n",
       "<style scoped>\n",
       "    .dataframe tbody tr th:only-of-type {\n",
       "        vertical-align: middle;\n",
       "    }\n",
       "\n",
       "    .dataframe tbody tr th {\n",
       "        vertical-align: top;\n",
       "    }\n",
       "\n",
       "    .dataframe thead th {\n",
       "        text-align: right;\n",
       "    }\n",
       "</style>\n",
       "<table border=\"1\" class=\"dataframe\">\n",
       "  <thead>\n",
       "    <tr style=\"text-align: right;\">\n",
       "      <th></th>\n",
       "      <th>PIC ug/l</th>\n",
       "      <th>PIC mmol/m3</th>\n",
       "    </tr>\n",
       "  </thead>\n",
       "  <tbody>\n",
       "    <tr>\n",
       "      <th>mean</th>\n",
       "      <td>0.0726</td>\n",
       "      <td>0.0061</td>\n",
       "    </tr>\n",
       "    <tr>\n",
       "      <th>median</th>\n",
       "      <td>0.1311</td>\n",
       "      <td>0.0109</td>\n",
       "    </tr>\n",
       "    <tr>\n",
       "      <th>std</th>\n",
       "      <td>0.2875</td>\n",
       "      <td>0.0240</td>\n",
       "    </tr>\n",
       "    <tr>\n",
       "      <th>ste</th>\n",
       "      <td>0.0288</td>\n",
       "      <td>0.0024</td>\n",
       "    </tr>\n",
       "    <tr>\n",
       "      <th>mad</th>\n",
       "      <td>0.1745</td>\n",
       "      <td>0.0145</td>\n",
       "    </tr>\n",
       "    <tr>\n",
       "      <th>mae</th>\n",
       "      <td>0.2414</td>\n",
       "      <td>0.0201</td>\n",
       "    </tr>\n",
       "    <tr>\n",
       "      <th>bias</th>\n",
       "      <td>0.0000</td>\n",
       "      <td>0.0000</td>\n",
       "    </tr>\n",
       "    <tr>\n",
       "      <th>bias_mean</th>\n",
       "      <td>0.0000</td>\n",
       "      <td>-0.0000</td>\n",
       "    </tr>\n",
       "    <tr>\n",
       "      <th>n</th>\n",
       "      <td>10.0000</td>\n",
       "      <td>10.0000</td>\n",
       "    </tr>\n",
       "  </tbody>\n",
       "</table>\n",
       "</div>"
      ],
      "text/plain": [
       "           PIC ug/l  PIC mmol/m3\n",
       "mean         0.0726       0.0061\n",
       "median       0.1311       0.0109\n",
       "std          0.2875       0.0240\n",
       "ste          0.0288       0.0024\n",
       "mad          0.1745       0.0145\n",
       "mae          0.2414       0.0201\n",
       "bias         0.0000       0.0000\n",
       "bias_mean    0.0000      -0.0000\n",
       "n           10.0000      10.0000"
      ]
     },
     "execution_count": 7,
     "metadata": {},
     "output_type": "execute_result"
    }
   ],
   "source": [
    "statsdf = pd.DataFrame({\n",
    " 'PIC ug/l' : stats_dict(pic_bx), \n",
    " 'PIC mmol/m3' : stats_dict(pic2_bx)})\n",
    "\n",
    "pd.options.display.float_format = '{:.4f}'.format\n",
    "\n",
    "statsdf"
   ]
  },
  {
   "cell_type": "markdown",
   "id": "1a8ca2bd-19d3-4a96-b830-cb7475188840",
   "metadata": {},
   "source": [
    "We want to report the standard deviation, MAE and MAD"
   ]
  },
  {
   "cell_type": "markdown",
   "id": "91b38f57-5eec-493d-94e4-33e899092ca7",
   "metadata": {},
   "source": [
    "# Comparison with the full discrete PIC dataset we have available"
   ]
  },
  {
   "cell_type": "markdown",
   "id": "3cd8e01f-27f8-4ac3-8be1-91358ade1826",
   "metadata": {},
   "source": [
    "First let's import all the discrete PICs from our dataset"
   ]
  },
  {
   "cell_type": "code",
   "execution_count": 8,
   "id": "fd9ec210-ab0c-4b5c-bc7d-e3799758be75",
   "metadata": {},
   "outputs": [],
   "source": [
    "balchdbfile = '/mnt/storage/labs/mitchell/projects/pic-algorithm/pic-algorithm-dev-GH-repo-data/01-field-data/02b-discrete-formatted.csv'\n",
    "balchdb = pd.read_csv(balchdbfile, low_memory=False, na_values = -999)"
   ]
  },
  {
   "cell_type": "markdown",
   "id": "13976080-19eb-4954-b14a-c6932b26d3d7",
   "metadata": {},
   "source": [
    "Pull out the PIC from the dataset and add in PIC data in mmol/m^3:"
   ]
  },
  {
   "cell_type": "code",
   "execution_count": 9,
   "id": "45ab0cdf-6c62-40e8-aa9b-afe40b291f6f",
   "metadata": {},
   "outputs": [],
   "source": [
    "db_pic = pd.DataFrame({'PIC[ug/L]' : balchdb['PIC[ug/L]']})\n",
    "db_pic['PIC[mmol/m3]'] = db_pic['PIC[ug/L]'] / 12"
   ]
  },
  {
   "cell_type": "markdown",
   "id": "894c5356-37fa-4867-a3cc-d305215e5828",
   "metadata": {},
   "source": [
    "Compare dataset with the calculated MAE, MAD and standard deviation from the statsdf above:"
   ]
  },
  {
   "cell_type": "code",
   "execution_count": 10,
   "id": "db5d8e75-c33d-4cf5-ad83-0e1cd95ffb2c",
   "metadata": {},
   "outputs": [
    {
     "name": "stdout",
     "output_type": "stream",
     "text": [
      "percentile of data below std: 10.818088223647738\n",
      "percentile of data below mad: 8.711491248911063\n",
      "percentile of data below mae: 10.176605686227925\n"
     ]
    }
   ],
   "source": [
    "p_std = np.sum(db_pic['PIC[mmol/m3]'] < statsdf.loc['std','PIC mmol/m3']) / len(db_pic) * 100\n",
    "p_mad = np.sum(db_pic['PIC[mmol/m3]'] < statsdf.loc['mad','PIC mmol/m3']) / len(db_pic) * 100\n",
    "p_mae = np.sum(db_pic['PIC[mmol/m3]'] < statsdf.loc['mae','PIC mmol/m3']) / len(db_pic) * 100\n",
    "\n",
    "print('percentile of data below std: ' + str(p_std))\n",
    "print('percentile of data below mad: ' + str(p_mad))\n",
    "print('percentile of data below mae: ' + str(p_mae))"
   ]
  },
  {
   "cell_type": "markdown",
   "id": "5cbbef0e-d2cc-47b3-92d5-83b9615e52be",
   "metadata": {},
   "source": [
    "## Make figure"
   ]
  },
  {
   "cell_type": "code",
   "execution_count": 12,
   "id": "33ffe5b8-4dfa-499e-b6fe-5dac5ca556fa",
   "metadata": {},
   "outputs": [
    {
     "data": {
      "image/png": "[encoded data removed]",
      "text/plain": [
       "<Figure size 640x480 with 3 Axes>"
      ]
     },
     "metadata": {},
     "output_type": "display_data"
    }
   ],
   "source": [
    "log_pic = np.log10((db_pic.loc[db_pic['PIC[mmol/m3]']>0, 'PIC[mmol/m3]'])*12)\n",
    "log_pic.dropna(inplace=True)\n",
    "\n",
    "pic_bins = np.linspace(log_pic.min(), log_pic.max(), 30)\n",
    "\n",
    "tick_positions = pic_bins[::4]\n",
    "tick_values = [10**tic for tic in tick_positions]\n",
    "tick_labels = ['{:.2g}'.format(lab) for lab in tick_values]\n",
    "tick_labels[-1] = '100'\n",
    "\n",
    "fig,ax = plt.subplots()\n",
    "ax.hist(log_pic, pic_bins,color=[0.7,0.7,0.7])\n",
    "ax.set_xlim([tick_positions[0],tick_positions[-1]])\n",
    "\n",
    "ax2 = ax.twinx()\n",
    "ax2.hist(log_pic, pic_bins,density=True,cumulative=True,histtype='step',\n",
    "        color='k',lw=1)\n",
    "ax2.set_xlim([tick_positions[0],tick_positions[-1]])\n",
    "\n",
    "ax.set_xlabel(r'PIC [$\\mu$g/L]')\n",
    "ax.set_ylabel('Number of observations')\n",
    "ax2.set_ylabel('Percent count')\n",
    "ax.set_xticks(tick_positions, tick_labels, rotation=45, ha='right')\n",
    "plt.tick_params(direction='out')\n",
    "\n",
    "ax3 = ax.twiny()\n",
    "ax3.hist(log_pic/12, pic_bins,density=True,cumulative=True,histtype='step',\n",
    "        color='k',lw=1.5);\n",
    "\n",
    "tick_positions = pic_bins[::4]\n",
    "tick_values = [(10**tic)/12 for tic in tick_positions]\n",
    "tick_labels = ['{:.2g}'.format(lab) for lab in tick_values]\n",
    "ax3.set_xticks(tick_positions, tick_labels, rotation=45, ha='left');\n",
    "ax3.set_xlabel(r'PIC [mmol/m$^3$]');\n",
    "\n",
    "std = statsdf.loc['std','PIC ug/l']\n",
    "mad = statsdf.loc['mad','PIC ug/l']\n",
    "mae = statsdf.loc['mae','PIC ug/l']\n",
    "ax.plot([np.log10(std),np.log10(std)],[0,1250],'k--',lw=1)\n",
    "ax.plot([np.log10(mad),np.log10(mad)],[0,1250],'k:',lw=1)\n",
    "ax.plot([np.log10(mae),np.log10(mae)],[0,1250],'k-.',lw=1)\n",
    "ax.set_ylim([0,1230])\n",
    "plt.savefig('figures/Fig4-PIC-hist.png', dpi = 350, bbox_inches='tight')"
   ]
  },
  {
   "cell_type": "code",
   "execution_count": null,
   "id": "9c68c753-f19b-478e-9113-99fbcd586307",
   "metadata": {},
   "outputs": [],
   "source": []
  }
 ],
 "metadata": {
  "kernelspec": {
   "display_name": "Python 3 (ipykernel)",
   "language": "python",
   "name": "python3"
  },
  "language_info": {
   "codemirror_mode": {
    "name": "ipython",
    "version": 3
   },
   "file_extension": ".py",
   "mimetype": "text/x-python",
   "name": "python",
   "nbconvert_exporter": "python",
   "pygments_lexer": "ipython3",
   "version": "3.12.4"
  }
 },
 "nbformat": 4,
 "nbformat_minor": 5
}
