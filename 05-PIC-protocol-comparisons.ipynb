{
 "cells": [
  {
   "cell_type": "markdown",
   "id": "41fb7ded-ebd8-4372-9355-d0c8a67cd74b",
   "metadata": {},
   "source": [
    "**Author:** C Michell\n",
    "\n",
    "This notebook evaluates whether the sampling protocol had an affect on the PIC concentration. Our data is not normal, so we need to do nonparametric tests. We will do both a Kruskal-Wallis test and Aligned Rank Transform"
   ]
  },
  {
   "cell_type": "code",
   "execution_count": 1,
   "id": "d53dca8e-45e5-4c97-ac62-04e464259342",
   "metadata": {},
   "outputs": [],
   "source": [
    "import pandas as pd\n",
    "from scipy.stats import f_oneway\n",
    "import scipy.stats as stats\n",
    "import statsmodels.api as sm\n",
    "from statsmodels.formula.api import ols\n",
    "import matplotlib.pyplot as plt\n",
    "import numpy as np"
   ]
  },
  {
   "cell_type": "code",
   "execution_count": 10,
   "id": "60665c80-c491-4236-bc65-04d292e5243b",
   "metadata": {},
   "outputs": [],
   "source": [
    "df = pd.read_csv('data/03-PIC-blank-corrected.csv')\n",
    "df = df.assign(label= df.Code.str[:-1])"
   ]
  },
  {
   "cell_type": "markdown",
   "id": "a390cd30-f8fd-4ce0-b2cb-67884d4391cc",
   "metadata": {},
   "source": [
    "# Kruskal-Wallis tests\n",
    "\n",
    "Here we're testing if any of the mean PIC for each of the four protocols are significantly different from each other"
   ]
  },
  {
   "cell_type": "code",
   "execution_count": 11,
   "id": "ca9bc787-0b8e-483d-b3ef-f7124f60aa3f",
   "metadata": {},
   "outputs": [],
   "source": [
    "labels = ['AX','AY','BX','BY']\n",
    "group_dict = {}\n",
    "for ll in labels:\n",
    "    subdf = df[df.label.str.contains(ll)]\n",
    "    gr_subdf = subdf.copy()\n",
    "    gr_subdf = gr_subdf[['Code','Filter','Rinse','PIC mmol/m3']]\n",
    "    group_dict[ll] = gr_subdf"
   ]
  },
  {
   "cell_type": "code",
   "execution_count": 12,
   "id": "eb154774-830a-46b1-9162-1cf9cf0328b7",
   "metadata": {},
   "outputs": [
    {
     "data": {
      "text/plain": [
       "KruskalResult(statistic=np.float64(0.7936986697513078), pvalue=np.float64(0.8509736273647703))"
      ]
     },
     "execution_count": 12,
     "metadata": {},
     "output_type": "execute_result"
    }
   ],
   "source": [
    "stats.kruskal(group_dict['AX']['PIC mmol/m3'],\n",
    "        group_dict['AY']['PIC mmol/m3'],\n",
    "        group_dict['BX']['PIC mmol/m3'],\n",
    "        group_dict['BY']['PIC mmol/m3'], nan_policy = 'omit')"
   ]
  },
  {
   "cell_type": "markdown",
   "id": "70426605-8d4e-40c5-b57d-77fdaddcc4c4",
   "metadata": {},
   "source": [
    "So we have an non-significant p-value, therefore there is no difference between the 4 protocols"
   ]
  },
  {
   "cell_type": "markdown",
   "id": "d6207a95-c575-49b9-ac05-c5ae77103d7b",
   "metadata": {},
   "source": [
    "# Aligned Rank Transform (ART)\n",
    "\n",
    "The Kruskal-Wallis test doesn't tell you about interactions between factors, so we need a different approach if we want to look at filter pore size and rinse type separately i.e.\n",
    "\n",
    "- does filter type influence PIC\n",
    "- does rinse type influence PIC\n",
    "- is an interaction effect between the filter and rinse type (e.g. the effect of filter type on PIC is dependent on rinse type)\n",
    "\n",
    "For this we can use Aligned Rank Transform (ART). "
   ]
  },
  {
   "cell_type": "code",
   "execution_count": 13,
   "id": "0dc1ab7e-503c-43a9-b2a0-ad62a973e955",
   "metadata": {},
   "outputs": [],
   "source": [
    "import statsmodels.api as sm\n",
    "import statsmodels.formula.api as smf\n",
    "from scipy.stats import rankdata"
   ]
  },
  {
   "cell_type": "markdown",
   "id": "13257793-3b05-4bf6-bec8-fab4217e3d1a",
   "metadata": {},
   "source": [
    "Remove the NaN row and make a copy of the dataframe"
   ]
  },
  {
   "cell_type": "code",
   "execution_count": 14,
   "id": "4c5e4b3c-4a7c-4fbe-8c4e-c6e29a63d2da",
   "metadata": {
    "scrolled": true
   },
   "outputs": [],
   "source": [
    "subdf = df[~(df['Code'] == 'SBY3')].copy()"
   ]
  },
  {
   "cell_type": "code",
   "execution_count": 15,
   "id": "19f57fa0-073b-4044-8433-efb64daa2cf3",
   "metadata": {},
   "outputs": [],
   "source": [
    "subdf.rename(columns={'PIC mmol/m3' : 'PIC_mol', 'PIC ug/l' : 'PIC_g'},inplace=True)"
   ]
  },
  {
   "cell_type": "code",
   "execution_count": 16,
   "id": "ea385659-e4db-4251-a47c-15c95a761cfd",
   "metadata": {},
   "outputs": [
    {
     "data": {
      "text/html": [
       "<div>\n",
       "<style scoped>\n",
       "    .dataframe tbody tr th:only-of-type {\n",
       "        vertical-align: middle;\n",
       "    }\n",
       "\n",
       "    .dataframe tbody tr th {\n",
       "        vertical-align: top;\n",
       "    }\n",
       "\n",
       "    .dataframe thead th {\n",
       "        text-align: right;\n",
       "    }\n",
       "</style>\n",
       "<table border=\"1\" class=\"dataframe\">\n",
       "  <thead>\n",
       "    <tr style=\"text-align: right;\">\n",
       "      <th></th>\n",
       "      <th>sum_sq</th>\n",
       "      <th>df</th>\n",
       "      <th>F</th>\n",
       "      <th>PR(&gt;F)</th>\n",
       "    </tr>\n",
       "  </thead>\n",
       "  <tbody>\n",
       "    <tr>\n",
       "      <th>C(Filter)</th>\n",
       "      <td>75.629926</td>\n",
       "      <td>1.0</td>\n",
       "      <td>0.210426</td>\n",
       "      <td>0.648091</td>\n",
       "    </tr>\n",
       "    <tr>\n",
       "      <th>C(Rinse)</th>\n",
       "      <td>178.992073</td>\n",
       "      <td>1.0</td>\n",
       "      <td>0.498011</td>\n",
       "      <td>0.483107</td>\n",
       "    </tr>\n",
       "    <tr>\n",
       "      <th>C(Filter):C(Rinse)</th>\n",
       "      <td>33.591282</td>\n",
       "      <td>1.0</td>\n",
       "      <td>0.093461</td>\n",
       "      <td>0.760880</td>\n",
       "    </tr>\n",
       "    <tr>\n",
       "      <th>Residual</th>\n",
       "      <td>21564.851128</td>\n",
       "      <td>60.0</td>\n",
       "      <td>NaN</td>\n",
       "      <td>NaN</td>\n",
       "    </tr>\n",
       "  </tbody>\n",
       "</table>\n",
       "</div>"
      ],
      "text/plain": [
       "                          sum_sq    df         F    PR(>F)\n",
       "C(Filter)              75.629926   1.0  0.210426  0.648091\n",
       "C(Rinse)              178.992073   1.0  0.498011  0.483107\n",
       "C(Filter):C(Rinse)     33.591282   1.0  0.093461  0.760880\n",
       "Residual            21564.851128  60.0       NaN       NaN"
      ]
     },
     "execution_count": 16,
     "metadata": {},
     "output_type": "execute_result"
    }
   ],
   "source": [
    "# Rank-transform the response variable\n",
    "subdf[\"Ranked_Score\"] = rankdata(subdf[\"PIC_mol\"])\n",
    "\n",
    "# Fit an ANOVA model on the ranked data\n",
    "model = smf.ols(\"Ranked_Score ~ C(Filter) * C(Rinse)\", data=subdf).fit()\n",
    "anova_table = sm.stats.anova_lm(model, typ=2)  # Type-II ANOVA\n",
    "\n",
    "anova_table"
   ]
  },
  {
   "cell_type": "markdown",
   "id": "62cb4658-88d1-4be6-983f-0be8d2d3197a",
   "metadata": {},
   "source": [
    "All p-values > 0.05, thus filter, rinse nor an interaction effect of both influence PIC"
   ]
  }
 ],
 "metadata": {
  "kernelspec": {
   "display_name": "Python 3 (ipykernel)",
   "language": "python",
   "name": "python3"
  },
  "language_info": {
   "codemirror_mode": {
    "name": "ipython",
    "version": 3
   },
   "file_extension": ".py",
   "mimetype": "text/x-python",
   "name": "python",
   "nbconvert_exporter": "python",
   "pygments_lexer": "ipython3",
   "version": "3.12.4"
  }
 },
 "nbformat": 4,
 "nbformat_minor": 5
}
